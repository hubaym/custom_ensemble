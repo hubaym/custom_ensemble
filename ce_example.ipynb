{
 "cells": [
  {
   "cell_type": "code",
   "execution_count": 23,
   "metadata": {
    "collapsed": true
   },
   "outputs": [],
   "source": [
    "from custom_ensemble import CustomEnsemble\n",
    "import predefined_models as pm\n",
    "import pandas as pd\n",
    "% matplotlib inline"
   ]
  },
  {
   "cell_type": "code",
   "execution_count": 24,
   "metadata": {
    "collapsed": true
   },
   "outputs": [
    {
     "name": "stdout",
     "output_type": "stream",
     "text": [
      "805 346\n"
     ]
    },
    {
     "name": "stdout",
     "output_type": "stream",
     "text": [
      "best trained score: 0.6881987577639752\n346\n346\n346\nTN 127 \tFP 28\nFN 78 \tTP 113\n"
     ]
    },
    {
     "name": "stdout",
     "output_type": "stream",
     "text": [
      "best trained score: 0.7403726708074534\nFeature doesnt have feature_importances_ attr\n346\n346\n346\nTN 129 \tFP 26\nFN 60 \tTP 131\n"
     ]
    },
    {
     "name": "stdout",
     "output_type": "stream",
     "text": [
      "best trained score: 0.6149068322981367\nFeature doesnt have feature_importances_ attr\n346\n346\n346\nTN 102 \tFP 53\nFN 92 \tTP 99\n"
     ]
    },
    {
     "data": {
      "image/png": "[encoded data removed]",
      "text/plain": [
       "<matplotlib.figure.Figure at 0x1a108a3470>"
      ]
     },
     "metadata": {},
     "output_type": "display_data"
    }
   ],
   "source": [
    "# Read example data into pandas dataframe\n",
    "df = pd.read_csv(\"example_df.csv\", header=None, names=[\"c\" + str(each) for each in range(1, 21)])\n",
    "train_cols = [\"c\" + str(each) for each in range(1, 20)]\n",
    "test_col = \"c20\"\n",
    "df.head()\n",
    "\n",
    "from sklearn.model_selection import train_test_split\n",
    "X_train, X_test, y_train, y_test = train_test_split(df[train_cols], df[test_col], test_size=0.3, random_state=42)\n",
    "print(len(X_train), len(X_test))\n",
    "ce = CustomEnsemble(X_train, y_train, X_test, y_test)\n",
    "ce.grid_search_layer1('mod4', pm.randomforest_classifier,\n",
    "                      pm.randomforest_classifier_def_par)\n",
    "ce.get_report('mod4')\n",
    "ce.grid_search_layer1('mod2', pm.logistic_regression, pm.logistic_regression_def_par)\n",
    "ce.get_report('mod2')\n",
    "ce.grid_search_layer1('mod3', pm.gaussian_process, pm.gaussian_process_def_par)\n",
    "ce.get_report('mod3')"
   ]
  },
  {
   "cell_type": "code",
   "execution_count": null,
   "metadata": {},
   "outputs": [],
   "source": [
    ""
   ]
  },
  {
   "cell_type": "code",
   "execution_count": 25,
   "metadata": {},
   "outputs": [
    {
     "name": "stdout",
     "output_type": "stream",
     "text": [
      "set_layer  ((('mod4', RandomForestClassifier(bootstrap=True, class_weight=None, criterion='entropy',\n            max_depth=6, max_features='auto', max_leaf_nodes=None,\n            min_impurity_decrease=0.0, min_impurity_split=None,\n            min_samples_leaf=1, min_samples_split=2,\n            min_weight_fraction_leaf=0.0, n_estimators=200, n_jobs=1,\n            oob_score=False, random_state=None, verbose=0,\n            warm_start=False)), ('mod2', LogisticRegression(C=1.0, class_weight=None, dual=False, fit_intercept=True,\n          intercept_scaling=1, max_iter=100, multi_class='ovr', n_jobs=1,\n          penalty='l2', random_state=None, solver='liblinear', tol=0.0001,\n          verbose=0, warm_start=False)), ('mod3', GaussianProcessClassifier(copy_X_train=True, kernel=None,\n             max_iter_predict=100, multi_class='one_vs_rest', n_jobs=1,\n             n_restarts_optimizer=0, optimizer='fmin_l_bfgs_b',\n             random_state=None, warm_start=False))),)\npredict for model:  mod4\n[1 1 0 0 0 1 0 1 1 0]\npredict for model:  mod2\n[1 1 0 0 1 1 0 0 0 0]\npredict for model:  mod3\n"
     ]
    },
    {
     "name": "stdout",
     "output_type": "stream",
     "text": [
      "[1 1 1 0 0 1 1 1 0 0]\npredict for model:  mod4\npredict for model:  mod2\npredict for model:  mod3\n"
     ]
    },
    {
     "name": "stdout",
     "output_type": "stream",
     "text": [
      "best trained score: 1.0\n346\n346\n346\nTN 108 \tFP 47\nFN 51 \tTP 140\nbest trained score: 1.0\nFeature doesnt have feature_importances_ attr\n346\n346\n346\nTN 115 \tFP 40\nFN 51 \tTP 140\n"
     ]
    },
    {
     "data": {
      "image/png": "[encoded data removed]",
      "text/plain": [
       "<matplotlib.figure.Figure at 0x1a1a07ee10>"
      ]
     },
     "metadata": {},
     "output_type": "display_data"
    }
   ],
   "source": [
    "ce.set_layer1_from_gridsearch('mod4', 'mod2', 'mod3')\n",
    "\n",
    "ce.grid_search_layer2('mod5', pm.randomforest_classifier,\n",
    "                      pm.randomforest_classifier_def_par)\n",
    "\n",
    "ce.get_report('mod5')\n",
    "\n",
    "#ce.grid_search_layer2('mod6', pm.svc, pm.svc_def_par)\n",
    "#ce.get_report('mod6')"
   ]
  },
  {
   "cell_type": "code",
   "execution_count": 37,
   "metadata": {},
   "outputs": [
    {
     "name": "stdout",
     "output_type": "stream",
     "text": [
      "set_layer  ((('mod5', RandomForestClassifier(bootstrap=True, class_weight=None, criterion='gini',\n            max_depth=3, max_features='auto', max_leaf_nodes=None,\n            min_impurity_decrease=0.0, min_impurity_split=None,\n            min_samples_leaf=1, min_samples_split=2,\n            min_weight_fraction_leaf=0.0, n_estimators=50, n_jobs=1,\n            oob_score=False, random_state=None, verbose=0,\n            warm_start=False)),),)\npredict for model:  mod4\npredict for model:  mod2\npredict for model:  mod3\npredict for model:  mod5\n"
     ]
    }
   ],
   "source": [
    "ce.set_layer2_from_gridsearch('mod5')\n",
    "predicted_x = ce.predict(X_test)"
   ]
  },
  {
   "cell_type": "code",
   "execution_count": 38,
   "metadata": {},
   "outputs": [
    {
     "data": {
      "text/plain": [
       "array([ 0,  0,  0,  0,  0,  1,  0,  0,  1,  0,  0,  0, -1,  1,  0,  0,  1,\n        0,  1,  0,  1,  1, -1,  1,  0,  0,  0,  0,  1,  0,  0,  0,  0,  0,\n        0,  0,  0,  0, -1,  0,  0,  1,  0, -1,  0, -1,  0,  0,  0,  0,  0,\n       -1,  0,  0,  0,  0,  0,  0,  0, -1,  0,  0,  0,  0,  0,  0,  0,  0,\n        0,  0,  0,  0,  0, -1,  0,  0,  0,  0,  0,  0,  1,  0, -1,  0,  1,\n        1,  0,  0,  0,  0,  0, -1, -1, -1,  0,  0,  1, -1, -1,  0,  0,  1,\n        0,  0,  0,  0, -1,  0,  0,  0,  0,  0,  0, -1,  0,  0,  0, -1,  0,\n        0,  0, -1,  0,  0,  0, -1, -1,  1, -1,  0,  0,  0,  0, -1, -1, -1,\n        0,  0,  1,  0,  0,  0,  0,  0, -1,  0, -1,  0, -1,  0,  0,  1,  1,\n        0,  0,  1,  0,  0,  0,  0,  1,  0,  0,  0,  0,  0,  0,  0,  1,  0,\n        0,  0, -1,  0,  1,  0, -1,  0,  1,  1,  0,  0,  0,  0,  0,  0,  0,\n        0,  0,  0,  0,  0,  0,  0,  0,  0,  0,  0,  1,  0, -1,  0,  0,  1,\n        0,  0, -1,  0,  0,  0,  1,  0,  0,  0,  0,  0,  0,  0,  0,  0,  0,\n        0,  1,  0,  0,  1,  0,  0,  0, -1, -1,  0,  0,  0, -1,  0,  0,  0,\n        0,  0,  0,  0,  1,  1,  0,  0,  0,  1,  0, -1,  0,  0,  0, -1,  0,\n        1,  0,  0,  1,  0,  0,  0,  0,  0,  0,  0,  0, -1,  0,  0,  0,  1,\n        0,  1,  0,  0,  0,  0,  0,  0,  0, -1, -1,  1,  0, -1,  0,  0,  0,\n        0,  0,  0,  0,  0, -1,  0, -1,  1,  0, -1, -1,  1, -1,  1,  0,  0,\n        0,  1,  0,  0,  0,  0,  1,  1, -1,  0, -1,  0, -1,  0,  0,  0,  0,\n        0,  0,  0,  0,  0,  0,  0,  0,  0,  0,  0,  0,  0, -1,  0,  0, -1,\n        0,  0,  1, -1,  1,  1])"
      ]
     },
     "execution_count": 38,
     "metadata": {},
     "output_type": "execute_result"
    }
   ],
   "source": [
    "predicted_x -y_test.values"
   ]
  },
  {
   "cell_type": "code",
   "execution_count": 39,
   "metadata": {},
   "outputs": [
    {
     "data": {
      "text/plain": [
       "{'mod5': GridSearchCV(cv=None, error_score='raise',\n        estimator=RandomForestClassifier(bootstrap=True, class_weight=None, criterion='gini',\n             max_depth=None, max_features='auto', max_leaf_nodes=None,\n             min_impurity_decrease=0.0, min_impurity_split=None,\n             min_samples_leaf=1, min_samples_split=2,\n             min_weight_fraction_leaf=0.0, n_estimators=10, n_jobs=1,\n             oob_score=False, random_state=None, verbose=0,\n             warm_start=False),\n        fit_params=None, iid=True, n_jobs=1,\n        param_grid={'max_depth': [3, 4, 5, 6], 'n_estimators': [50, 100, 200], 'criterion': ['gini', 'entropy']},\n        pre_dispatch='2*n_jobs', refit=True, return_train_score='warn',\n        scoring=None, verbose=0),\n 'mod6': GridSearchCV(cv=None, error_score='raise',\n        estimator=SVC(C=0.025, cache_size=200, class_weight=None, coef0=0.0,\n   decision_function_shape='ovr', degree=3, gamma='auto', kernel='linear',\n   max_iter=-1, probability=False, random_state=None, shrinking=True,\n   tol=0.001, verbose=False),\n        fit_params=None, iid=True, n_jobs=1,\n        param_grid={'C': [0.025, 0.5, 1], 'kernel': ['linear'], 'gamma': [1, 2]},\n        pre_dispatch='2*n_jobs', refit=True, return_train_score='warn',\n        scoring=None, verbose=0)}"
      ]
     },
     "execution_count": 39,
     "metadata": {},
     "output_type": "execute_result"
    }
   ],
   "source": [
    "ce._grid_searches2"
   ]
  },
  {
   "cell_type": "code",
   "execution_count": null,
   "metadata": {},
   "outputs": [],
   "source": [
    ""
   ]
  }
 ],
 "metadata": {
  "kernelspec": {
   "display_name": "Python 2",
   "language": "python",
   "name": "python2"
  },
  "language_info": {
   "codemirror_mode": {
    "name": "ipython",
    "version": 2.0
   },
   "file_extension": ".py",
   "mimetype": "text/x-python",
   "name": "python",
   "nbconvert_exporter": "python",
   "pygments_lexer": "ipython2",
   "version": "2.7.6"
  }
 },
 "nbformat": 4,
 "nbformat_minor": 0
}